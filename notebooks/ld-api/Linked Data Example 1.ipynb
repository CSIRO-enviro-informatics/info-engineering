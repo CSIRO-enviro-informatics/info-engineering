{
 "cells": [
  {
   "cell_type": "code",
   "execution_count": 1,
   "metadata": {},
   "outputs": [],
   "source": [
    "import rdflib\n",
    "from rdflib import Graph\n",
    "import pprint\n",
    "from SPARQLWrapper import SPARQLWrapper\n",
    "from rdflib.plugin import register, Serializer, Parser\n",
    "register('json-ld', Serializer, 'rdflib_jsonld.serializer', 'JsonLDSerializer')\n",
    "register('json-ld', Parser, 'rdflib_jsonld.parser', 'JsonLDParser')"
   ]
  },
  {
   "cell_type": "markdown",
   "metadata": {},
   "source": [
    "## Section 1: RDF Graphs\n",
    "\n",
    "This section shows you how to use RDFLib to parse a Turtle RDF file and serialise it into different formats."
   ]
  },
  {
   "cell_type": "code",
   "execution_count": 2,
   "metadata": {},
   "outputs": [
    {
     "name": "stdout",
     "output_type": "stream",
     "text": [
      "No. RDF statements: 3\n",
      "\n",
      "(rdflib.term.URIRef('http://example.org/BBKing'),\n",
      " rdflib.term.URIRef('http://example.org/plays_instrument'),\n",
      " rdflib.term.URIRef('http://example.org/Guitar'))\n",
      "\n",
      "(rdflib.term.URIRef('http://example.org/BBKing'),\n",
      " rdflib.term.URIRef('http://www.w3.org/1999/02/22-rdf-syntax-ns#type'),\n",
      " rdflib.term.URIRef('http://xmlns.com/foaf/0.1/Person'))\n",
      "\n",
      "(rdflib.term.URIRef('http://example.org/BBKing'),\n",
      " rdflib.term.URIRef('http://example.org/is_born_on'),\n",
      " rdflib.term.Literal('1925-09-16', datatype=rdflib.term.URIRef('http://www.w3.org/2001/XMLSchema#date')))\n",
      "\n"
     ]
    }
   ],
   "source": [
    "g = Graph()\n",
    "g.parse(\"bb-king.ttl\", format=\"turtle\")\n",
    "\n",
    "print(\"No. RDF statements: {}\\n\".format(len(g)))\n",
    "\n",
    "for stmt in g:\n",
    "    pprint.pprint(stmt)\n",
    "    print()"
   ]
  },
  {
   "cell_type": "code",
   "execution_count": 3,
   "metadata": {},
   "outputs": [
    {
     "data": {
      "image/png": "[encoded data removed]",
      "text/plain": [
       "<IPython.core.display.Image object>"
      ]
     },
     "metadata": {},
     "output_type": "display_data"
    }
   ],
   "source": [
    "import io\n",
    "import pydotplus\n",
    "from IPython.display import display, Image\n",
    "from rdflib.tools.rdf2dot import rdf2dot\n",
    "\n",
    "def visualize(g):\n",
    "    stream = io.StringIO()\n",
    "    rdf2dot(g, stream, opts = {display})\n",
    "    dg = pydotplus.graph_from_dot_data(stream.getvalue())\n",
    "    png = dg.create_png()\n",
    "    display(Image(png))\n",
    "\n",
    "visualize(g)"
   ]
  },
  {
   "cell_type": "code",
   "execution_count": 4,
   "metadata": {},
   "outputs": [
    {
     "name": "stdout",
     "output_type": "stream",
     "text": [
      "[\n",
      "    {\n",
      "        \"@id\": \"http://example.org/BBKing\",\n",
      "        \"@type\": [\n",
      "            \"http://xmlns.com/foaf/0.1/Person\"\n",
      "        ],\n",
      "        \"http://example.org/is_born_on\": [\n",
      "            {\n",
      "                \"@type\": \"http://www.w3.org/2001/XMLSchema#date\",\n",
      "                \"@value\": \"1925-09-16\"\n",
      "            }\n",
      "        ],\n",
      "        \"http://example.org/plays_instrument\": [\n",
      "            {\n",
      "                \"@id\": \"http://example.org/Guitar\"\n",
      "            }\n",
      "        ]\n",
      "    }\n",
      "]\n"
     ]
    }
   ],
   "source": [
    "#Serialise the graph in JSON-LD format\n",
    "print(g.serialize(format='json-ld', indent=4).decode('utf-8'))"
   ]
  },
  {
   "cell_type": "code",
   "execution_count": 5,
   "metadata": {},
   "outputs": [
    {
     "name": "stdout",
     "output_type": "stream",
     "text": [
      "@prefix : <http://example.org/> .\n",
      "@prefix foaf: <http://xmlns.com/foaf/0.1/> .\n",
      "@prefix xsd: <http://www.w3.org/2001/XMLSchema#> .\n",
      "\n",
      ":BBKing a foaf:Person ;\n",
      "    :is_born_on \"1925-09-16\"^^xsd:date ;\n",
      "    :plays_instrument :Guitar .\n",
      "\n",
      "\n"
     ]
    }
   ],
   "source": [
    "#serialise in Turtle format\n",
    "print(g.serialize(format='turtle').decode('utf-8'))"
   ]
  },
  {
   "cell_type": "code",
   "execution_count": 6,
   "metadata": {},
   "outputs": [
    {
     "name": "stdout",
     "output_type": "stream",
     "text": [
      "<http://example.org/BBKing> <http://example.org/plays_instrument> <http://example.org/Guitar> .\n",
      "<http://example.org/BBKing> <http://www.w3.org/1999/02/22-rdf-syntax-ns#type> <http://xmlns.com/foaf/0.1/Person> .\n",
      "<http://example.org/BBKing> <http://example.org/is_born_on> \"1925-09-16\"^^<http://www.w3.org/2001/XMLSchema#date> .\n",
      "\n",
      "\n"
     ]
    }
   ],
   "source": [
    "#serialise in N-Triples format\n",
    "print(g.serialize(format='ntriples').decode('utf-8'))"
   ]
  },
  {
   "cell_type": "code",
   "execution_count": 7,
   "metadata": {},
   "outputs": [
    {
     "name": "stdout",
     "output_type": "stream",
     "text": [
      "<?xml version=\"1.0\" encoding=\"UTF-8\"?>\n",
      "<rdf:RDF\n",
      "   xmlns=\"http://example.org/\"\n",
      "   xmlns:rdf=\"http://www.w3.org/1999/02/22-rdf-syntax-ns#\"\n",
      ">\n",
      "  <rdf:Description rdf:about=\"http://example.org/BBKing\">\n",
      "    <plays_instrument rdf:resource=\"http://example.org/Guitar\"/>\n",
      "    <rdf:type rdf:resource=\"http://xmlns.com/foaf/0.1/Person\"/>\n",
      "    <is_born_on rdf:datatype=\"http://www.w3.org/2001/XMLSchema#date\">1925-09-16</is_born_on>\n",
      "  </rdf:Description>\n",
      "</rdf:RDF>\n",
      "\n"
     ]
    }
   ],
   "source": [
    "#serialise in RDF/XML format\n",
    "print(g.serialize(format='xml').decode('utf-8'))"
   ]
  },
  {
   "cell_type": "code",
   "execution_count": null,
   "metadata": {},
   "outputs": [],
   "source": []
  }
 ],
 "metadata": {
  "kernelspec": {
   "display_name": "Python 3",
   "language": "python",
   "name": "python3"
  },
  "language_info": {
   "codemirror_mode": {
    "name": "ipython",
    "version": 3
   },
   "file_extension": ".py",
   "mimetype": "text/x-python",
   "name": "python",
   "nbconvert_exporter": "python",
   "pygments_lexer": "ipython3",
   "version": "3.7.6"
  }
 },
 "nbformat": 4,
 "nbformat_minor": 4
}

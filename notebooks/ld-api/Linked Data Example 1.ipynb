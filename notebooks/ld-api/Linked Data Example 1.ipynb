{
 "cells": [
  {
   "cell_type": "code",
   "execution_count": 18,
   "metadata": {},
   "outputs": [
    {
     "name": "stdout",
     "output_type": "stream",
     "text": [
      "Processing /home/jovyan/.cache/pip/wheels/3a/97/90/e133cbb98e344c2ca55120f8d704f6ff57bdfd8e30f1dc5451/rdflib_jsonld-0.5.0-py2.py3-none-any.whl\n",
      "Collecting rdflib\n",
      "  Using cached rdflib-5.0.0-py3-none-any.whl (231 kB)\n",
      "Collecting sparqlwrapper\n",
      "  Using cached SPARQLWrapper-1.8.5-py3-none-any.whl (26 kB)\n",
      "Collecting isodate\n",
      "  Using cached isodate-0.6.0-py2.py3-none-any.whl (45 kB)\n",
      "Collecting pyparsing\n",
      "  Downloading pyparsing-2.4.7-py2.py3-none-any.whl (67 kB)\n",
      "\u001b[K     |████████████████████████████████| 67 kB 968 kB/s eta 0:00:01\n",
      "\u001b[?25hCollecting six\n",
      "  Downloading six-1.15.0-py2.py3-none-any.whl (10 kB)\n",
      "Installing collected packages: six, isodate, pyparsing, rdflib, rdflib-jsonld, sparqlwrapper\n",
      "  Attempting uninstall: six\n",
      "    Found existing installation: six 1.15.0\n",
      "    Uninstalling six-1.15.0:\n",
      "      Successfully uninstalled six-1.15.0\n",
      "  Attempting uninstall: isodate\n",
      "    Found existing installation: isodate 0.6.0\n",
      "    Uninstalling isodate-0.6.0:\n",
      "      Successfully uninstalled isodate-0.6.0\n",
      "  Attempting uninstall: pyparsing\n",
      "    Found existing installation: pyparsing 2.4.7\n",
      "    Uninstalling pyparsing-2.4.7:\n",
      "      Successfully uninstalled pyparsing-2.4.7\n",
      "  Attempting uninstall: rdflib\n",
      "    Found existing installation: rdflib 5.0.0\n",
      "    Uninstalling rdflib-5.0.0:\n",
      "      Successfully uninstalled rdflib-5.0.0\n",
      "  Attempting uninstall: rdflib-jsonld\n",
      "    Found existing installation: rdflib-jsonld 0.5.0\n",
      "    Uninstalling rdflib-jsonld-0.5.0:\n",
      "      Successfully uninstalled rdflib-jsonld-0.5.0\n",
      "  Attempting uninstall: sparqlwrapper\n",
      "    Found existing installation: SPARQLWrapper 1.8.5\n",
      "    Uninstalling SPARQLWrapper-1.8.5:\n",
      "      Successfully uninstalled SPARQLWrapper-1.8.5\n",
      "Successfully installed isodate-0.6.0 pyparsing-2.4.7 rdflib-5.0.0 rdflib-jsonld-0.5.0 six-1.15.0 sparqlwrapper-1.8.5\n"
     ]
    }
   ],
   "source": [
    "!pip install --force-reinstall rdflib-jsonld rdflib sparqlwrapper"
   ]
  },
  {
   "cell_type": "code",
   "execution_count": 22,
   "metadata": {},
   "outputs": [],
   "source": [
    "import rdflib\n",
    "from rdflib import Graph\n",
    "import pprint\n",
    "from SPARQLWrapper import SPARQLWrapper\n",
    "from rdflib.plugin import register, Serializer, Parser\n",
    "register('json-ld', Serializer, 'rdflib_jsonld.serializer', 'JsonLDSerializer')\n",
    "register('json-ld', Parser, 'rdflib_jsonld.parser', 'JsonLDParser')"
   ]
  },
  {
   "cell_type": "code",
   "execution_count": 23,
   "metadata": {},
   "outputs": [
    {
     "name": "stdout",
     "output_type": "stream",
     "text": [
      "No. RDF statements: 3\n",
      "\n",
      "(rdflib.term.URIRef('http://example.org/BBKing'),\n",
      " rdflib.term.URIRef('http://example.org/plays_instrument'),\n",
      " rdflib.term.URIRef('http://example.org/Guitar'))\n",
      "\n",
      "(rdflib.term.URIRef('http://example.org/BBKing'),\n",
      " rdflib.term.URIRef('http://example.org/is_born_on'),\n",
      " rdflib.term.Literal('1925-09-16', datatype=rdflib.term.URIRef('http://www.w3.org/2001/XMLSchema#date')))\n",
      "\n",
      "(rdflib.term.URIRef('http://example.org/BBKing'),\n",
      " rdflib.term.URIRef('http://www.w3.org/1999/02/22-rdf-syntax-ns#type'),\n",
      " rdflib.term.URIRef('http://xmlns.com/foaf/0.1/Person'))\n",
      "\n"
     ]
    }
   ],
   "source": [
    "g = Graph()\n",
    "g.parse(\"bb-king.ttl\", format=\"turtle\")\n",
    "\n",
    "print(\"No. RDF statements: {}\\n\".format(len(g)))\n",
    "\n",
    "for stmt in g:\n",
    "    pprint.pprint(stmt)\n",
    "    print()"
   ]
  },
  {
   "cell_type": "code",
   "execution_count": 26,
   "metadata": {},
   "outputs": [
    {
     "name": "stdout",
     "output_type": "stream",
     "text": [
      "[\n",
      "    {\n",
      "        \"@id\": \"http://example.org/BBKing\",\n",
      "        \"@type\": [\n",
      "            \"http://xmlns.com/foaf/0.1/Person\"\n",
      "        ],\n",
      "        \"http://example.org/is_born_on\": [\n",
      "            {\n",
      "                \"@type\": \"http://www.w3.org/2001/XMLSchema#date\",\n",
      "                \"@value\": \"1925-09-16\"\n",
      "            }\n",
      "        ],\n",
      "        \"http://example.org/plays_instrument\": [\n",
      "            {\n",
      "                \"@id\": \"http://example.org/Guitar\"\n",
      "            }\n",
      "        ]\n",
      "    }\n",
      "]\n"
     ]
    }
   ],
   "source": [
    "from rdflib import Graph, plugin\n",
    "from rdflib.serializer import Serializer\n",
    "\n",
    "#convert TTL to JSON-LD\n",
    "print(g.serialize(format='json-ld', indent=4).decode('utf-8'))\n"
   ]
  },
  {
   "cell_type": "code",
   "execution_count": 27,
   "metadata": {},
   "outputs": [
    {
     "name": "stdout",
     "output_type": "stream",
     "text": [
      "@prefix : <http://example.org/> .\n",
      "@prefix foaf: <http://xmlns.com/foaf/0.1/> .\n",
      "@prefix xsd: <http://www.w3.org/2001/XMLSchema#> .\n",
      "\n",
      ":BBKing a foaf:Person ;\n",
      "    :is_born_on \"1925-09-16\"^^xsd:date ;\n",
      "    :plays_instrument :Guitar .\n",
      "\n",
      "\n"
     ]
    }
   ],
   "source": [
    "print(g.serialize(format='turtle').decode('utf-8'))\n"
   ]
  },
  {
   "cell_type": "code",
   "execution_count": 29,
   "metadata": {},
   "outputs": [
    {
     "name": "stdout",
     "output_type": "stream",
     "text": [
      "<http://example.org/BBKing> <http://example.org/plays_instrument> <http://example.org/Guitar> .\n",
      "<http://example.org/BBKing> <http://example.org/is_born_on> \"1925-09-16\"^^<http://www.w3.org/2001/XMLSchema#date> .\n",
      "<http://example.org/BBKing> <http://www.w3.org/1999/02/22-rdf-syntax-ns#type> <http://xmlns.com/foaf/0.1/Person> .\n",
      "\n",
      "\n"
     ]
    }
   ],
   "source": [
    "print(g.serialize(format='ntriples').decode('utf-8'))\n"
   ]
  },
  {
   "cell_type": "code",
   "execution_count": 30,
   "metadata": {},
   "outputs": [
    {
     "ename": "PluginException",
     "evalue": "No plugin registered for (rdfxml, <class 'rdflib.serializer.Serializer'>)",
     "output_type": "error",
     "traceback": [
      "\u001b[0;31m---------------------------------------------------------------------------\u001b[0m",
      "\u001b[0;31mKeyError\u001b[0m                                  Traceback (most recent call last)",
      "\u001b[0;32m/opt/conda/lib/python3.8/site-packages/rdflib/plugin.py\u001b[0m in \u001b[0;36mget\u001b[0;34m(name, kind)\u001b[0m\n\u001b[1;32m    102\u001b[0m     \u001b[0;32mtry\u001b[0m\u001b[0;34m:\u001b[0m\u001b[0;34m\u001b[0m\u001b[0;34m\u001b[0m\u001b[0m\n\u001b[0;32m--> 103\u001b[0;31m         \u001b[0mp\u001b[0m \u001b[0;34m=\u001b[0m \u001b[0m_plugins\u001b[0m\u001b[0;34m[\u001b[0m\u001b[0;34m(\u001b[0m\u001b[0mname\u001b[0m\u001b[0;34m,\u001b[0m \u001b[0mkind\u001b[0m\u001b[0;34m)\u001b[0m\u001b[0;34m]\u001b[0m\u001b[0;34m\u001b[0m\u001b[0;34m\u001b[0m\u001b[0m\n\u001b[0m\u001b[1;32m    104\u001b[0m     \u001b[0;32mexcept\u001b[0m \u001b[0mKeyError\u001b[0m\u001b[0;34m:\u001b[0m\u001b[0;34m\u001b[0m\u001b[0;34m\u001b[0m\u001b[0m\n",
      "\u001b[0;31mKeyError\u001b[0m: ('rdfxml', <class 'rdflib.serializer.Serializer'>)",
      "\nDuring handling of the above exception, another exception occurred:\n",
      "\u001b[0;31mPluginException\u001b[0m                           Traceback (most recent call last)",
      "\u001b[0;32m<ipython-input-30-80d454773f54>\u001b[0m in \u001b[0;36m<module>\u001b[0;34m\u001b[0m\n\u001b[0;32m----> 1\u001b[0;31m \u001b[0mprint\u001b[0m\u001b[0;34m(\u001b[0m\u001b[0mg\u001b[0m\u001b[0;34m.\u001b[0m\u001b[0mserialize\u001b[0m\u001b[0;34m(\u001b[0m\u001b[0mformat\u001b[0m\u001b[0;34m=\u001b[0m\u001b[0;34m'rdfxml'\u001b[0m\u001b[0;34m)\u001b[0m\u001b[0;34m.\u001b[0m\u001b[0mdecode\u001b[0m\u001b[0;34m(\u001b[0m\u001b[0;34m'utf-8'\u001b[0m\u001b[0;34m)\u001b[0m\u001b[0;34m)\u001b[0m\u001b[0;34m\u001b[0m\u001b[0;34m\u001b[0m\u001b[0m\n\u001b[0m",
      "\u001b[0;32m/opt/conda/lib/python3.8/site-packages/rdflib/graph.py\u001b[0m in \u001b[0;36mserialize\u001b[0;34m(self, destination, format, base, encoding, **args)\u001b[0m\n\u001b[1;32m    959\u001b[0m             \u001b[0mbase\u001b[0m \u001b[0;34m=\u001b[0m \u001b[0mself\u001b[0m\u001b[0;34m.\u001b[0m\u001b[0mbase\u001b[0m\u001b[0;34m\u001b[0m\u001b[0;34m\u001b[0m\u001b[0m\n\u001b[1;32m    960\u001b[0m \u001b[0;34m\u001b[0m\u001b[0m\n\u001b[0;32m--> 961\u001b[0;31m         \u001b[0mserializer\u001b[0m \u001b[0;34m=\u001b[0m \u001b[0mplugin\u001b[0m\u001b[0;34m.\u001b[0m\u001b[0mget\u001b[0m\u001b[0;34m(\u001b[0m\u001b[0mformat\u001b[0m\u001b[0;34m,\u001b[0m \u001b[0mSerializer\u001b[0m\u001b[0;34m)\u001b[0m\u001b[0;34m(\u001b[0m\u001b[0mself\u001b[0m\u001b[0;34m)\u001b[0m\u001b[0;34m\u001b[0m\u001b[0;34m\u001b[0m\u001b[0m\n\u001b[0m\u001b[1;32m    962\u001b[0m         \u001b[0;32mif\u001b[0m \u001b[0mdestination\u001b[0m \u001b[0;32mis\u001b[0m \u001b[0;32mNone\u001b[0m\u001b[0;34m:\u001b[0m\u001b[0;34m\u001b[0m\u001b[0;34m\u001b[0m\u001b[0m\n\u001b[1;32m    963\u001b[0m             \u001b[0mstream\u001b[0m \u001b[0;34m=\u001b[0m \u001b[0mBytesIO\u001b[0m\u001b[0;34m(\u001b[0m\u001b[0;34m)\u001b[0m\u001b[0;34m\u001b[0m\u001b[0;34m\u001b[0m\u001b[0m\n",
      "\u001b[0;32m/opt/conda/lib/python3.8/site-packages/rdflib/plugin.py\u001b[0m in \u001b[0;36mget\u001b[0;34m(name, kind)\u001b[0m\n\u001b[1;32m    103\u001b[0m         \u001b[0mp\u001b[0m \u001b[0;34m=\u001b[0m \u001b[0m_plugins\u001b[0m\u001b[0;34m[\u001b[0m\u001b[0;34m(\u001b[0m\u001b[0mname\u001b[0m\u001b[0;34m,\u001b[0m \u001b[0mkind\u001b[0m\u001b[0;34m)\u001b[0m\u001b[0;34m]\u001b[0m\u001b[0;34m\u001b[0m\u001b[0;34m\u001b[0m\u001b[0m\n\u001b[1;32m    104\u001b[0m     \u001b[0;32mexcept\u001b[0m \u001b[0mKeyError\u001b[0m\u001b[0;34m:\u001b[0m\u001b[0;34m\u001b[0m\u001b[0;34m\u001b[0m\u001b[0m\n\u001b[0;32m--> 105\u001b[0;31m         raise PluginException(\n\u001b[0m\u001b[1;32m    106\u001b[0m             \"No plugin registered for (%s, %s)\" % (name, kind))\n\u001b[1;32m    107\u001b[0m     \u001b[0;32mreturn\u001b[0m \u001b[0mp\u001b[0m\u001b[0;34m.\u001b[0m\u001b[0mgetClass\u001b[0m\u001b[0;34m(\u001b[0m\u001b[0;34m)\u001b[0m\u001b[0;34m\u001b[0m\u001b[0;34m\u001b[0m\u001b[0m\n",
      "\u001b[0;31mPluginException\u001b[0m: No plugin registered for (rdfxml, <class 'rdflib.serializer.Serializer'>)"
     ]
    }
   ],
   "source": [
    "print(g.serialize(format='rdfxml').decode('utf-8'))\n"
   ]
  },
  {
   "cell_type": "code",
   "execution_count": null,
   "metadata": {},
   "outputs": [],
   "source": []
  }
 ],
 "metadata": {
  "kernelspec": {
   "display_name": "Python 3",
   "language": "python",
   "name": "python3"
  },
  "language_info": {
   "codemirror_mode": {
    "name": "ipython",
    "version": 3
   },
   "file_extension": ".py",
   "mimetype": "text/x-python",
   "name": "python",
   "nbconvert_exporter": "python",
   "pygments_lexer": "ipython3",
   "version": "3.8.3"
  }
 },
 "nbformat": 4,
 "nbformat_minor": 4
}

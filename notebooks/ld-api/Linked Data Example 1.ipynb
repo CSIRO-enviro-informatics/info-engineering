{
 "cells": [
  {
   "cell_type": "code",
   "execution_count": 18,
   "metadata": {},
   "outputs": [
    {
     "name": "stdout",
     "output_type": "stream",
     "text": [
      "Processing /home/jovyan/.cache/pip/wheels/3a/97/90/e133cbb98e344c2ca55120f8d704f6ff57bdfd8e30f1dc5451/rdflib_jsonld-0.5.0-py2.py3-none-any.whl\n",
      "Collecting rdflib\n",
      "  Using cached rdflib-5.0.0-py3-none-any.whl (231 kB)\n",
      "Collecting sparqlwrapper\n",
      "  Using cached SPARQLWrapper-1.8.5-py3-none-any.whl (26 kB)\n",
      "Collecting isodate\n",
      "  Using cached isodate-0.6.0-py2.py3-none-any.whl (45 kB)\n",
      "Collecting pyparsing\n",
      "  Downloading pyparsing-2.4.7-py2.py3-none-any.whl (67 kB)\n",
      "\u001b[K     |████████████████████████████████| 67 kB 968 kB/s eta 0:00:01\n",
      "\u001b[?25hCollecting six\n",
      "  Downloading six-1.15.0-py2.py3-none-any.whl (10 kB)\n",
      "Installing collected packages: six, isodate, pyparsing, rdflib, rdflib-jsonld, sparqlwrapper\n",
      "  Attempting uninstall: six\n",
      "    Found existing installation: six 1.15.0\n",
      "    Uninstalling six-1.15.0:\n",
      "      Successfully uninstalled six-1.15.0\n",
      "  Attempting uninstall: isodate\n",
      "    Found existing installation: isodate 0.6.0\n",
      "    Uninstalling isodate-0.6.0:\n",
      "      Successfully uninstalled isodate-0.6.0\n",
      "  Attempting uninstall: pyparsing\n",
      "    Found existing installation: pyparsing 2.4.7\n",
      "    Uninstalling pyparsing-2.4.7:\n",
      "      Successfully uninstalled pyparsing-2.4.7\n",
      "  Attempting uninstall: rdflib\n",
      "    Found existing installation: rdflib 5.0.0\n",
      "    Uninstalling rdflib-5.0.0:\n",
      "      Successfully uninstalled rdflib-5.0.0\n",
      "  Attempting uninstall: rdflib-jsonld\n",
      "    Found existing installation: rdflib-jsonld 0.5.0\n",
      "    Uninstalling rdflib-jsonld-0.5.0:\n",
      "      Successfully uninstalled rdflib-jsonld-0.5.0\n",
      "  Attempting uninstall: sparqlwrapper\n",
      "    Found existing installation: SPARQLWrapper 1.8.5\n",
      "    Uninstalling SPARQLWrapper-1.8.5:\n",
      "      Successfully uninstalled SPARQLWrapper-1.8.5\n",
      "Successfully installed isodate-0.6.0 pyparsing-2.4.7 rdflib-5.0.0 rdflib-jsonld-0.5.0 six-1.15.0 sparqlwrapper-1.8.5\n"
     ]
    }
   ],
   "source": [
    "!pip install --force-reinstall rdflib-jsonld rdflib sparqlwrapper"
   ]
  },
  {
   "cell_type": "code",
   "execution_count": 22,
   "metadata": {},
   "outputs": [],
   "source": [
    "import rdflib\n",
    "from rdflib import Graph\n",
    "import pprint\n",
    "from SPARQLWrapper import SPARQLWrapper\n",
    "from rdflib.plugin import register, Serializer, Parser\n",
    "register('json-ld', Serializer, 'rdflib_jsonld.serializer', 'JsonLDSerializer')\n",
    "register('json-ld', Parser, 'rdflib_jsonld.parser', 'JsonLDParser')"
   ]
  },
  {
   "cell_type": "markdown",
   "metadata": {},
   "source": [
    "## Section 1: RDF Graphs\n",
    "\n",
    "This section shows you how to use RDFLib to parse a Turtle RDF file and serialise it into different formats."
   ]
  },
  {
   "cell_type": "code",
   "execution_count": 23,
   "metadata": {},
   "outputs": [
    {
     "name": "stdout",
     "output_type": "stream",
     "text": [
      "No. RDF statements: 3\n",
      "\n",
      "(rdflib.term.URIRef('http://example.org/BBKing'),\n",
      " rdflib.term.URIRef('http://example.org/plays_instrument'),\n",
      " rdflib.term.URIRef('http://example.org/Guitar'))\n",
      "\n",
      "(rdflib.term.URIRef('http://example.org/BBKing'),\n",
      " rdflib.term.URIRef('http://example.org/is_born_on'),\n",
      " rdflib.term.Literal('1925-09-16', datatype=rdflib.term.URIRef('http://www.w3.org/2001/XMLSchema#date')))\n",
      "\n",
      "(rdflib.term.URIRef('http://example.org/BBKing'),\n",
      " rdflib.term.URIRef('http://www.w3.org/1999/02/22-rdf-syntax-ns#type'),\n",
      " rdflib.term.URIRef('http://xmlns.com/foaf/0.1/Person'))\n",
      "\n"
     ]
    }
   ],
   "source": [
    "g = Graph()\n",
    "g.parse(\"bb-king.ttl\", format=\"turtle\")\n",
    "\n",
    "print(\"No. RDF statements: {}\\n\".format(len(g)))\n",
    "\n",
    "for stmt in g:\n",
    "    pprint.pprint(stmt)\n",
    "    print()"
   ]
  },
  {
   "cell_type": "code",
   "execution_count": 32,
   "metadata": {},
   "outputs": [
    {
     "name": "stdout",
     "output_type": "stream",
     "text": [
      "[\n",
      "    {\n",
      "        \"@id\": \"http://example.org/BBKing\",\n",
      "        \"@type\": [\n",
      "            \"http://xmlns.com/foaf/0.1/Person\"\n",
      "        ],\n",
      "        \"http://example.org/is_born_on\": [\n",
      "            {\n",
      "                \"@type\": \"http://www.w3.org/2001/XMLSchema#date\",\n",
      "                \"@value\": \"1925-09-16\"\n",
      "            }\n",
      "        ],\n",
      "        \"http://example.org/plays_instrument\": [\n",
      "            {\n",
      "                \"@id\": \"http://example.org/Guitar\"\n",
      "            }\n",
      "        ]\n",
      "    }\n",
      "]\n"
     ]
    }
   ],
   "source": [
    "#Serialise the graph in JSON-LD format\n",
    "print(g.serialize(format='json-ld', indent=4).decode('utf-8'))"
   ]
  },
  {
   "cell_type": "code",
   "execution_count": 33,
   "metadata": {},
   "outputs": [
    {
     "name": "stdout",
     "output_type": "stream",
     "text": [
      "@prefix : <http://example.org/> .\n",
      "@prefix foaf: <http://xmlns.com/foaf/0.1/> .\n",
      "@prefix xsd: <http://www.w3.org/2001/XMLSchema#> .\n",
      "\n",
      ":BBKing a foaf:Person ;\n",
      "    :is_born_on \"1925-09-16\"^^xsd:date ;\n",
      "    :plays_instrument :Guitar .\n",
      "\n",
      "\n"
     ]
    }
   ],
   "source": [
    "#serialise in Turtle format\n",
    "print(g.serialize(format='turtle').decode('utf-8'))"
   ]
  },
  {
   "cell_type": "code",
   "execution_count": 34,
   "metadata": {},
   "outputs": [
    {
     "name": "stdout",
     "output_type": "stream",
     "text": [
      "<http://example.org/BBKing> <http://example.org/plays_instrument> <http://example.org/Guitar> .\n",
      "<http://example.org/BBKing> <http://example.org/is_born_on> \"1925-09-16\"^^<http://www.w3.org/2001/XMLSchema#date> .\n",
      "<http://example.org/BBKing> <http://www.w3.org/1999/02/22-rdf-syntax-ns#type> <http://xmlns.com/foaf/0.1/Person> .\n",
      "\n",
      "\n"
     ]
    }
   ],
   "source": [
    "#serialise in N-Triples format\n",
    "print(g.serialize(format='ntriples').decode('utf-8'))"
   ]
  },
  {
   "cell_type": "code",
   "execution_count": 35,
   "metadata": {},
   "outputs": [
    {
     "name": "stdout",
     "output_type": "stream",
     "text": [
      "<?xml version=\"1.0\" encoding=\"UTF-8\"?>\n",
      "<rdf:RDF\n",
      "   xmlns=\"http://example.org/\"\n",
      "   xmlns:rdf=\"http://www.w3.org/1999/02/22-rdf-syntax-ns#\"\n",
      ">\n",
      "  <rdf:Description rdf:about=\"http://example.org/BBKing\">\n",
      "    <plays_instrument rdf:resource=\"http://example.org/Guitar\"/>\n",
      "    <is_born_on rdf:datatype=\"http://www.w3.org/2001/XMLSchema#date\">1925-09-16</is_born_on>\n",
      "    <rdf:type rdf:resource=\"http://xmlns.com/foaf/0.1/Person\"/>\n",
      "  </rdf:Description>\n",
      "</rdf:RDF>\n",
      "\n"
     ]
    }
   ],
   "source": [
    "#serialise in RDF/XML format\n",
    "print(g.serialize(format='xml').decode('utf-8'))"
   ]
  },
  {
   "cell_type": "code",
   "execution_count": null,
   "metadata": {},
   "outputs": [],
   "source": []
  }
 ],
 "metadata": {
  "kernelspec": {
   "display_name": "Python 3",
   "language": "python",
   "name": "python3"
  },
  "language_info": {
   "codemirror_mode": {
    "name": "ipython",
    "version": 3
   },
   "file_extension": ".py",
   "mimetype": "text/x-python",
   "name": "python",
   "nbconvert_exporter": "python",
   "pygments_lexer": "ipython3",
   "version": "3.8.3"
  }
 },
 "nbformat": 4,
 "nbformat_minor": 4
}
